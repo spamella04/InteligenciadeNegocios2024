{
 "cells": [
  {
   "cell_type": "code",
   "execution_count": 4,
   "metadata": {},
   "outputs": [],
   "source": [
    "# Gabriel Chang\n",
    "\n",
    "# funcion para descargar paquetes al ejecutar el scrip, sin necesidad de hacerlo por la terminal\n",
    "# igualmente hice esto en la última tarea, solo por cuestión de mejorar el ejecución\n",
    "# en diferentes máquinas\n",
    "\n",
    "import os\n",
    "import subprocess\n",
    "import sys\n",
    "\n",
    "# en ese arreglo incluyo los paquetes que debo instalar, para facilitar el mantenimiento\n",
    "# (las necesarias para la asignacion de EDA U3T2)\n",
    "required_packages = ['pandas', 'matplotlib', 'numpy', 'seaborn']\n",
    "\n",
    "def install(package):\n",
    "    subprocess.check_call([sys.executable, \"-m\", \"pip\", \"install\", package])"
   ]
  },
  {
   "cell_type": "code",
   "execution_count": 5,
   "metadata": {},
   "outputs": [
    {
     "name": "stdout",
     "output_type": "stream",
     "text": [
      "'pandas' ya está instalado.\n",
      "'matplotlib' ya está instalado.\n",
      "'numpy' ya está instalado.\n",
      "'seaborn' ya está instalado.\n"
     ]
    }
   ],
   "source": [
    "# hago un for each iterando en el arreglo de paquetes requeridos, y los instalo\n",
    "# si es que no lo están\n",
    "\n",
    "for package in required_packages:\n",
    "    try:\n",
    "        __import__(package)\n",
    "        print(f\"'{package}' ya está instalado.\")\n",
    "    except ImportError:\n",
    "        print(f\"'{package}' no está instalado. Instalando...\")\n",
    "        install(package)"
   ]
  },
  {
   "cell_type": "code",
   "execution_count": 6,
   "metadata": {},
   "outputs": [],
   "source": [
    "# Import de librerias e inicialización del data frame\n",
    "import pandas as pd\n",
    "import matplotlib.pyplot as plt\n",
    "import seaborn as sea\n",
    "import numpy as np"
   ]
  },
  {
   "cell_type": "code",
   "execution_count": 7,
   "metadata": {},
   "outputs": [
    {
     "name": "stdout",
     "output_type": "stream",
     "text": [
      "ERROR AL CARGAR EL DF -->  [Errno 2] No such file or directory: ''\n"
     ]
    }
   ],
   "source": [
    "# data set --> Technical Support Dataset\n",
    "url = ''\n",
    "\n",
    "try:\n",
    "    data_frame = pd.read_csv(url, encoding='unicode_escape')\n",
    "\n",
    "    # Crear una copia del dataset original para modificar\n",
    "    data_frame_modificado = data_frame.copy()\n",
    "\n",
    "    print('Archivo CSV cargado al Data Frame exitosamente')\n",
    "\n",
    "    print('\\nIMPRIMIENDO HEAD DEL DATA SET\\n :', data_frame_modificado.head())\n",
    "\n",
    "except Exception as ex:\n",
    "    print('ERROR AL CARGAR EL DF --> ', ex)"
   ]
  }
 ],
 "metadata": {
  "kernelspec": {
   "display_name": "Python 3",
   "language": "python",
   "name": "python3"
  },
  "language_info": {
   "codemirror_mode": {
    "name": "ipython",
    "version": 3
   },
   "file_extension": ".py",
   "mimetype": "text/x-python",
   "name": "python",
   "nbconvert_exporter": "python",
   "pygments_lexer": "ipython3",
   "version": "3.12.3"
  }
 },
 "nbformat": 4,
 "nbformat_minor": 2
}
