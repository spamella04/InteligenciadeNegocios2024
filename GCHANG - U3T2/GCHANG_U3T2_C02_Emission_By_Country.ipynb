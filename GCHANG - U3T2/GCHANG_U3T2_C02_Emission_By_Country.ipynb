{
 "cells": [
  {
   "cell_type": "code",
   "execution_count": 4,
   "metadata": {},
   "outputs": [],
   "source": [
    "# Gabriel Chang\n",
    "\n",
    "# funcion para descargar paquetes al ejecutar el scrip, sin necesidad de hacerlo por la terminal\n",
    "# igualmente hice esto en la última tarea, solo por cuestión de mejorar el ejecución\n",
    "# en diferentes máquinas\n",
    "\n",
    "import os\n",
    "import subprocess\n",
    "import sys\n",
    "\n",
    "# en ese arreglo incluyo los paquetes que debo instalar, para facilitar el mantenimiento\n",
    "# (las necesarias para la asignacion de EDA U3T2)\n",
    "required_packages = ['pandas', 'matplotlib', 'numpy', 'seaborn']\n",
    "\n",
    "def install(package):\n",
    "    subprocess.check_call([sys.executable, \"-m\", \"pip\", \"install\", package])"
   ]
  },
  {
   "cell_type": "code",
   "execution_count": 5,
   "metadata": {},
   "outputs": [
    {
     "name": "stdout",
     "output_type": "stream",
     "text": [
      "'pandas' ya está instalado.\n",
      "'matplotlib' ya está instalado.\n",
      "'numpy' ya está instalado.\n",
      "'seaborn' ya está instalado.\n"
     ]
    }
   ],
   "source": [
    "# hago un for each iterando en el arreglo de paquetes requeridos, y los instalo\n",
    "# si es que no lo están\n",
    "\n",
    "for package in required_packages:\n",
    "    try:\n",
    "        __import__(package)\n",
    "        print(f\"'{package}' ya está instalado.\")\n",
    "    except ImportError:\n",
    "        print(f\"'{package}' no está instalado. Instalando...\")\n",
    "        install(package)"
   ]
  },
  {
   "cell_type": "code",
   "execution_count": 6,
   "metadata": {},
   "outputs": [],
   "source": [
    "# Import de librerias e inicialización del data frame\n",
    "import pandas as pd\n",
    "import matplotlib.pyplot as plt\n",
    "import seaborn as sea\n",
    "import numpy as np"
   ]
  },
  {
   "cell_type": "code",
   "execution_count": 10,
   "metadata": {},
   "outputs": [
    {
     "name": "stdout",
     "output_type": "stream",
     "text": [
      "Archivo CSV cargado al Data Frame exitosamente\n",
      "\n",
      "IMPRIMIENDO HEAD DEL DATA SET\n",
      " :        Country Code Calling Code  Year  CO2 emission (Tons)  Population(2022)  \\\n",
      "0  Afghanistan   AF           93  1750                  0.0        41128771.0   \n",
      "1  Afghanistan   AF           93  1751                  0.0        41128771.0   \n",
      "2  Afghanistan   AF           93  1752                  0.0        41128771.0   \n",
      "3  Afghanistan   AF           93  1753                  0.0        41128771.0   \n",
      "4  Afghanistan   AF           93  1754                  0.0        41128771.0   \n",
      "\n",
      "       Area % of World Density(km2)  \n",
      "0  652230.0      0.40%       63/km²  \n",
      "1  652230.0      0.40%       63/km²  \n",
      "2  652230.0      0.40%       63/km²  \n",
      "3  652230.0      0.40%       63/km²  \n",
      "4  652230.0      0.40%       63/km²  \n"
     ]
    }
   ],
   "source": [
    "# data set --> Technical Support Dataset\n",
    "url = 'https://raw.githubusercontent.com/spamella04/InteligenciadeNegocios2024/refs/heads/Gabriel/GCHANG%20-%20U3T2/CO2%20emission%20by%20countries.csv'\n",
    "\n",
    "try:\n",
    "    data_frame = pd.read_csv(url, encoding='unicode_escape')\n",
    "\n",
    "    # Crear una copia del dataset original para modificar\n",
    "    data_frame_modificado = data_frame.copy()\n",
    "\n",
    "    print('Archivo CSV cargado al Data Frame exitosamente')\n",
    "\n",
    "    print('\\nIMPRIMIENDO HEAD DEL DATA SET\\n :', data_frame_modificado.head())\n",
    "\n",
    "except Exception as ex:\n",
    "    print('ERROR AL CARGAR EL DF --> ', ex)"
   ]
  },
  {
   "cell_type": "code",
   "execution_count": 11,
   "metadata": {},
   "outputs": [
    {
     "name": "stdout",
     "output_type": "stream",
     "text": [
      "CANTIDAD DE REGISTROS (FILAS) EN EL DATA SET -->  59620\n",
      "\n",
      "CANTIDAD DE COLUMNAS (VARIABLES) EN EL DATA SET -->  9\n",
      "\n",
      "IMPRRIMIENDO NÚMERO DE FILAS Y TIPOS DE DATOS:\n",
      "\n",
      "<class 'pandas.core.frame.DataFrame'>\n",
      "RangeIndex: 59620 entries, 0 to 59619\n",
      "Data columns (total 9 columns):\n",
      " #   Column               Non-Null Count  Dtype  \n",
      "---  ------               --------------  -----  \n",
      " 0   Country              59620 non-null  object \n",
      " 1   Code                 57452 non-null  object \n",
      " 2   Calling Code         56097 non-null  object \n",
      " 3   Year                 59620 non-null  int64  \n",
      " 4   CO2 emission (Tons)  59620 non-null  float64\n",
      " 5   Population(2022)     53116 non-null  float64\n",
      " 6   Area                 55284 non-null  float64\n",
      " 7   % of World           55284 non-null  object \n",
      " 8   Density(km2)         53116 non-null  object \n",
      "dtypes: float64(3), int64(1), object(5)\n",
      "memory usage: 4.1+ MB\n",
      "None\n",
      "\n",
      "IMPRMIENDO ESTADÍSTICAS BÁSICAS DEL DATA FRAME:\n",
      "                       count          mean           std      min        25%  \\\n",
      "Year                 59620.0  1.885000e+03  7.823108e+01   1750.0     1817.0   \n",
      "CO2 emission (Tons)  59620.0  1.034774e+09  1.041652e+10      0.0        0.0   \n",
      "Population(2022)     53116.0  3.992260e+07  1.482365e+08  11312.0  1770414.5   \n",
      "Area                 55284.0  6.522073e+05  1.865483e+06     21.0    17704.5   \n",
      "\n",
      "                           50%         75%           max  \n",
      "Year                    1885.0      1953.0  2.020000e+03  \n",
      "CO2 emission (Tons)        0.0   8715092.0  4.170000e+11  \n",
      "Population(2022)     8673095.0  28629200.5  1.425887e+09  \n",
      "Area                  110381.5    492573.0  1.709824e+07  \n"
     ]
    }
   ],
   "source": [
    "# Cantidad de registros:\n",
    "print('CANTIDAD DE REGISTROS (FILAS) EN EL DATA SET --> ', data_frame_modificado.shape[0])\n",
    "\n",
    "# Cantidad de columnas:\n",
    "print('\\nCANTIDAD DE COLUMNAS (VARIABLES) EN EL DATA SET --> ', data_frame_modificado.shape[1])\n",
    "\n",
    "# Descripcion de los datos\n",
    "print(f'\\nIMPRRIMIENDO NÚMERO DE FILAS Y TIPOS DE DATOS:\\n')\n",
    "print(data_frame_modificado.info())\n",
    "\n",
    "# Estadísticas básicas\n",
    "print(f'\\nIMPRMIENDO ESTADÍSTICAS BÁSICAS DEL DATA FRAME:')\n",
    "print(data_frame_modificado.describe().T)"
   ]
  }
 ],
 "metadata": {
  "kernelspec": {
   "display_name": "Python 3",
   "language": "python",
   "name": "python3"
  },
  "language_info": {
   "codemirror_mode": {
    "name": "ipython",
    "version": 3
   },
   "file_extension": ".py",
   "mimetype": "text/x-python",
   "name": "python",
   "nbconvert_exporter": "python",
   "pygments_lexer": "ipython3",
   "version": "3.12.3"
  }
 },
 "nbformat": 4,
 "nbformat_minor": 2
}
