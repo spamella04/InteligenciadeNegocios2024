{
 "cells": [
  {
   "cell_type": "code",
   "execution_count": 2,
   "id": "d64c3eb8-0cdd-45da-bcc9-a797a007d184",
   "metadata": {},
   "outputs": [],
   "source": [
    "import pandas as pd\n",
    "import numpy as np\n",
    "import matplotlib.pyplot as plt\n",
    "import seaborn as sns\n",
    "from scipy import stats\n",
    "import gdown\n",
    "from wordcloud import WordCloud, STOPWORDS\n",
    "from sklearn.model_selection import train_test_split\n",
    "from sklearn.feature_extraction.text import CountVectorizer\n",
    "from sklearn.linear_model import LogisticRegression\n",
    "from sklearn.metrics import accuracy_score\n",
    "from sklearn.metrics import confusion_matrix, classification_report\n",
    "import string"
   ]
  },
  {
   "cell_type": "code",
   "execution_count": 4,
   "id": "500ef799-d1b3-4179-b9ea-57bfd0ae0f95",
   "metadata": {},
   "outputs": [
    {
     "data": {
      "text/plain": [
       "{'Content-Type': 'text/html; charset=utf-8', 'Date': 'Mon, 30 Sep 2024 00:21:22 GMT', 'Cache-Control': 'no-cache, no-store', 'Content-Encoding': 'gzip', 'Pragma': 'no-cache', 'Set-Cookie': 'CSRF-TOKEN=CfDJ8KWOACvMaNFPiIJ818QpJK3YjGECKGyMlSFzokp1zlN9Aaqun7YPup-k8KNaLOqqaPk-wfcXVdgKQ8s6WIixqfhM4zRcT9qcKeU2CKhSbQ; path=/; secure; samesite=strict; httponly, XSRF-TOKEN=CfDJ8KWOACvMaNFPiIJ818QpJK2KGzf0ROx_Dt1-2xSUAeRMgUIpLSsfi_RW6VkVcAO83pqUfOmwFoemEIzgwYnumIzT6NlOK_RD5VscWC6IpA7DgQ; path=/; secure; samesite=strict, CLIENT-TOKEN=eyJhbGciOiJub25lIiwidHlwIjoiSldUIn0.eyJpc3MiOiJrYWdnbGUiLCJhdWQiOiJjbGllbnQiLCJzdWIiOiIiLCJuYnQiOiIyMDI0LTA5LTMwVDAwOjIxOjIyLjgxOTM1MDlaIiwiaWF0IjoiMjAyNC0wOS0zMFQwMDoyMToyMi44MTkzNTA5WiIsImp0aSI6IjE5OTEzNWNiLWM2MGYtNGJlMS1hMzg2LWFhM2M4YWViZGQ4ZiIsImV4cCI6IjIwMjQtMTAtMzBUMDA6MjE6MjIuODE5MzUwOVoiLCJhbm9uIjp0cnVlLCJmZiI6WyJLZXJuZWxzRWRpdG9yVGFibGVPZkNvbnRlbnRzIiwiS2VybmVsc0RhdGFFeHBsb3JlclRhYlZpZXdzIiwiS2VybmVsc0NlbGxDb250ZXh0TWVudSIsIktlcm5lbHNLbURlZmVycmVkRWRpdG9yTWVudXMiLCJLZXJuZWxzRWRpdG9yQ29tbWFuZFBhbGV0dGUiLCJLZXJuZWxzRmlyZWJhc2VMb25nUG9sbGluZyIsIkFsbG93Rm9ydW1BdHRhY2htZW50cyIsIktlcm5lbEVkaXRvckFkZE9uc1BhbmVsIiwiRnJvbnRlbmRFcnJvclJlcG9ydGluZyIsIkRhdGFzZXRVcGxvYWRlckR1cGxpY2F0ZURldGVjdGlvbiIsIkJhZGdlcyIsIktlcm5lbHNQYWNrYWdlTWFuYWdlciIsIktlcm5lbHNJbnB1dFdpZGdldE5ld1ZlcnNpb24iLCJNZXRhc3RvcmVDaGVja0FnZ3JlZ2F0ZUZpbGVIYXNoZXMiLCJNb2RlbHNVcGxvYWRQYW5lbCIsIkNoZWNrRWZmaWNpZW50RXh0ZW5zaW9ucyIsIlVzZXJMaWNlbnNlQWdyZWVtZW50U3RhbGVuZXNzVHJhY2tpbmciLCJQb3B1bGF0ZUNvbXBsaWFuY2VSZWdpb24iXSwiZmZkIjp7Iktlcm5lbEVkaXRvckF1dG9zYXZlVGhyb3R0bGVNcyI6IjMwMDAwIiwiUGluRm9ydW1NZXNzYWdlcyI6InByaXZhdGUiLCJBZG1pbk1vdmVGb3J1bVRvcGljcyI6InByaXZhdGUiLCJFbWVyZ2VuY3lBbGVydEJhbm5lciI6Int9IiwiQ2xpZW50UnBjUmF0ZUxpbWl0UXBzIjoiNDAiLCJDbGllbnRScGNSYXRlTGltaXRRcG0iOiI1MDAiLCJGZWF0dXJlZENvbW11bml0eUNvbXBldGl0aW9ucyI6IjYwMDk1LDU0MDAwLDU3MTYzLDgwODc0LDgxNzg2LDgxNzA0LDgyNjExLDg1MjEwIiwiQWRkRmVhdHVyZUZsYWdzVG9QYWdlTG9hZFRhZyI6ImRpc2FibGVkIiwiTW9kZWxJbmZlcmVuY2VQYXJhbWV0ZXJzIjoieyBcIm1heF90b2tlbnNcIjogMTI4LCBcInRlbXBlcmF0dXJlXCI6IDAuNCwgXCJ0b3Bfa1wiOiA1IH0iLCJDb21wZXRpdGlvbk1ldHJpY1RpbWVvdXRNaW51dGVzIjoiMzAifSwicGlkIjoia2FnZ2xlLTE2MTYwNyIsInN2YyI6IndlYi1mZSIsInNkYWsiOiJBSXphU3lBNGVOcVVkUlJza0pzQ1pXVnotcUw2NTVYYTVKRU1yZUUiLCJibGQiOiI5MDhiNzQzMGQ0YzU1YzA4MjQ0OWNkZjg1YWZmYTRlYTg3YWYyZjc0In0.; path=/; secure; samesite=lax', 'Vary': 'Accept-Encoding', 'X-Frame-Options': 'SAMEORIGIN', 'Strict-Transport-Security': 'max-age=63072000; includeSubDomains; preload', 'Content-Security-Policy': \"object-src 'none'; script-src 'nonce-51dbCvaD6aG+xXbKaKWGhQ==' 'report-sample' 'unsafe-inline' 'unsafe-eval' 'strict-dynamic' https: http:; base-uri 'none'; report-uri https://csp.withgoogle.com/csp/kaggle/20201130; frame-src 'self' https://www.kaggleusercontent.com https://www.youtube.com/embed/ https://polygraph-cool.github.io https://www.google.com/recaptcha/ https://www.docdroid.com https://www.docdroid.net https://kaggle-static.storage.googleapis.com https://kkb-production.jupyter-proxy.kaggle.net https://kkb-production.firebaseapp.com https://kaggle-metastore.firebaseapp.com https://apis.google.com https://content-sheets.googleapis.com/ https://accounts.google.com/ https://storage.googleapis.com https://docs.google.com https://drive.google.com https://calendar.google.com/ ;\", 'X-Content-Type-Options': 'nosniff', 'Referrer-Policy': 'strict-origin-when-cross-origin', 'Via': '1.1 google', 'Alt-Svc': 'h3=\":443\"; ma=2592000,h3-29=\":443\"; ma=2592000', 'Transfer-Encoding': 'chunked'}"
      ]
     },
     "execution_count": 4,
     "metadata": {},
     "output_type": "execute_result"
    }
   ],
   "source": [
    "url = 'https://www.kaggle.com/datasets/zusmani/pakistans-largest-ecommerce-dataset/download'\n",
    "df = requests.get(url)\n",
    "df.headers"
   ]
  },
  {
   "cell_type": "code",
   "execution_count": null,
   "id": "b7d802be-4d48-4fef-af81-4bd5f277e013",
   "metadata": {},
   "outputs": [],
   "source": []
  }
 ],
 "metadata": {
  "kernelspec": {
   "display_name": "Python 3 (ipykernel)",
   "language": "python",
   "name": "python3"
  },
  "language_info": {
   "codemirror_mode": {
    "name": "ipython",
    "version": 3
   },
   "file_extension": ".py",
   "mimetype": "text/x-python",
   "name": "python",
   "nbconvert_exporter": "python",
   "pygments_lexer": "ipython3",
   "version": "3.12.3"
  }
 },
 "nbformat": 4,
 "nbformat_minor": 5
}
