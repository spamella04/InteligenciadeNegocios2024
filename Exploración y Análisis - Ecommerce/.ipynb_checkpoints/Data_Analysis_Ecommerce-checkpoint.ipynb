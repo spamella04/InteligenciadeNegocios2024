{
 "cells": [
  {
   "cell_type": "code",
   "execution_count": null,
   "id": "d64c3eb8-0cdd-45da-bcc9-a797a007d184",
   "metadata": {},
   "outputs": [],
   "source": [
    "import pandas as pd\n",
    "import numpy as np\n",
    "import matplotlib.pyplot as plt\n",
    "import seaborn as sns\n",
    "from scipy import stats\n",
    "import gdown\n",
    "from wordcloud import WordCloud, STOPWORDS\n",
    "from sklearn.model_selection import train_test_split\n",
    "from sklearn.feature_extraction.text import CountVectorizer\n",
    "from sklearn.linear_model import LogisticRegression\n",
    "from sklearn.metrics import accuracy_score\n",
    "from sklearn.metrics import confusion_matrix, classification_report\n",
    "import string\n",
    "import os"
   ]
  },
  {
   "cell_type": "code",
   "execution_count": null,
   "id": "500ef799-d1b3-4179-b9ea-57bfd0ae0f95",
   "metadata": {},
   "outputs": [],
   "source": [
    "url = 'https://drive.google.com/file/d/1O7CqasWnb7o7sJNypfUZ4z1D4AzTGEuD/view?usp=sharing'\n",
    "file_name = 'Pakistan Largest Ecommerce Dataset.csv'\n",
    "\n",
    "def download_file(fileid, file):\n",
    "    if os.path.exists(file):\n",
    "        print(f\"El dataset {file} ya existe en el directorio\")\n",
    "    else:\n",
    "        print(f\"Descargando {file}...\")\n",
    "        gdown.download(fileid, file, quiet=False, fuzzy=True)\n",
    "        print(f\"{file} descargado exitosamente\")\n",
    "\n",
    "download_file(url, file_name)"
   ]
  },
  {
   "cell_type": "code",
   "execution_count": null,
   "id": "b7d802be-4d48-4fef-af81-4bd5f277e013",
   "metadata": {
    "scrolled": true
   },
   "outputs": [],
   "source": [
    "df = pd.read_csv(file_name)\n",
    "df.head()"
   ]
  },
  {
   "cell_type": "code",
   "execution_count": null,
   "id": "15f4d2c7-dea6-4ff9-bb9e-e180b5ff8107",
   "metadata": {},
   "outputs": [],
   "source": [
    "#Dado que la exploración inicial con pandas muestra 5 columnas que en verdad no existen en el dataset original, procederemos a borrar\n",
    "deleteCols =  ['Unnamed: 21', 'Unnamed: 22', 'Unnamed: 23', 'Unnamed: 24', 'Unnamed: 25']\n",
    "new_df = df.drop(columns = deleteCols)"
   ]
  },
  {
   "cell_type": "code",
   "execution_count": null,
   "id": "12b8420a-7fac-469c-8aca-bd81e8415477",
   "metadata": {},
   "outputs": [],
   "source": [
    "new_df.head()"
   ]
  },
  {
   "cell_type": "code",
   "execution_count": null,
   "id": "30118c19-ec00-4678-85c7-a69744bd426e",
   "metadata": {},
   "outputs": [],
   "source": [
    "new_df.info()\n",
    "\n",
    "print('\\n\\nCantidad de filas y columnas de datos')\n",
    "new_df.shape"
   ]
  },
  {
   "cell_type": "markdown",
   "id": "5321d6d6-5117-4cdf-9671-40e8adc25082",
   "metadata": {},
   "source": [
    "Estadísticas descriptivas de datos numéricos"
   ]
  },
  {
   "cell_type": "code",
   "execution_count": null,
   "id": "3fc9e339-7763-46ec-a8ee-42a97539a9b9",
   "metadata": {},
   "outputs": [],
   "source": [
    "new_df['price'].describe()"
   ]
  },
  {
   "cell_type": "code",
   "execution_count": null,
   "id": "c16c59dd-e554-4e58-8afa-12ea34132a45",
   "metadata": {},
   "outputs": [],
   "source": [
    "new_df['qty_ordered'].describe()"
   ]
  },
  {
   "cell_type": "code",
   "execution_count": null,
   "id": "4cad2522-308f-4089-8aa1-d20e430296cd",
   "metadata": {},
   "outputs": [],
   "source": [
    "new_df['grand_total'].describe()"
   ]
  },
  {
   "cell_type": "code",
   "execution_count": null,
   "id": "a755e554-0ee3-4210-9c5e-fd74613a8d65",
   "metadata": {},
   "outputs": [],
   "source": [
    "new_df['discount_amount'].describe()"
   ]
  },
  {
   "cell_type": "markdown",
   "id": "24c89611-76a7-4daf-bf42-53afe5e170ea",
   "metadata": {},
   "source": [
    "Visualización de Datos Relevantes acerca de las ventas"
   ]
  },
  {
   "cell_type": "code",
   "execution_count": null,
   "id": "7553083e-6071-4800-8906-a9d820401dbf",
   "metadata": {},
   "outputs": [],
   "source": [
    "#Contabilizamos categorías para posteriormente mostrar las que más ordenes tienen\n",
    "category_counts = new_df['category_name_1'].value_counts().sort_index()\n",
    "category_counts.head()"
   ]
  },
  {
   "cell_type": "code",
   "execution_count": null,
   "id": "a96169ed-592d-45f8-81cc-a2661b917076",
   "metadata": {},
   "outputs": [],
   "source": [
    "#Para poder visualizar todos los estados de órdenes\n",
    "orders_status_count =new_df['status'].value_counts().sort_index()\n",
    "orders_status_count.head()"
   ]
  },
  {
   "cell_type": "code",
   "execution_count": null,
   "id": "0f36952c-e0bd-424a-bc37-089456a5c747",
   "metadata": {},
   "outputs": [],
   "source": [
    "#Gráfico de barras con dimensiones 10 x 6\n",
    "plt.figure(figsize=(10, 6))\n",
    "catbar = plt.bar(category_counts.index, category_counts.values, color = 'blue')\n",
    "plt.title('Las categorías que más vendieron entre 2016 y 2018')\n",
    "plt.xlabel('Categoría')\n",
    "plt.ylabel('Conteo')\n",
    "plt.xticks(rotation=45, ha='right')\n",
    "\n",
    "#Declaramos una función que nos permite visualizar valores para cada categoría\n",
    "def get_yval(graphs):\n",
    "    for graph in graphs:\n",
    "        y_values = graph.get_height()\n",
    "        plt.text(graph.get_x() + graph.get_width()/2, y_values + 0.1, int(y_values), ha='center', va='bottom')\n",
    "\n",
    "get_yval(catbar)"
   ]
  },
  {
   "cell_type": "markdown",
   "id": "237b2a70-bc15-44d1-a970-64417aa5b562",
   "metadata": {},
   "source": [
    "Veremos las tendencias de ventas en correspondencia con el mes de cada año"
   ]
  },
  {
   "cell_type": "code",
   "execution_count": null,
   "id": "e6245e99-a500-4730-941f-6e87427ff002",
   "metadata": {},
   "outputs": [],
   "source": [
    "#Usaremos la fecha original \"Working Date\" convirtiendola a fecha\n",
    "new_df['Working Date'] = pd.to_datetime(new_df['Working Date'])\n",
    "\n",
    "#Extraemos el mes\n",
    "new_df['Month'] = new_df['Working Date'].dt.to_period('M')\n",
    "\n",
    "#Frecuencia de registros de órdenes\n",
    "bymonth_orders = new_df.groupby('Month').size()\n",
    "\n",
    "plt.figure(figsize=(14, 6))\n",
    "plt.plot(bymonth_orders.index.astype(str), bymonth_orders.values, marker='o', linestyle='-', color='b')\n",
    "plt.title('Frecuencia de Órdenes por Mes')\n",
    "plt.xlabel('Mes por año (Julio 2016 a Agosto 2018')\n",
    "plt.ylabel('Conteo de órdenes')\n",
    "plt.xticks(rotation=45, ha='right')\n",
    "plt.grid(True)"
   ]
  },
  {
   "cell_type": "code",
   "execution_count": null,
   "id": "0e68f42a-b51a-47f6-bdc1-6df0cfa5b0fa",
   "metadata": {},
   "outputs": [],
   "source": [
    "#Para poder contabilizar métodos de pago por cada orden\n",
    "\n",
    "payment_methods_count =new_df['payment_method'].value_counts().sort_index()\n",
    "payment_methods_count.head()"
   ]
  },
  {
   "cell_type": "code",
   "execution_count": null,
   "id": "eeec467c-cda7-4b96-a8c5-159163c9fb1f",
   "metadata": {},
   "outputs": [],
   "source": [
    "plt.figure(figsize=(10, 6))\n",
    "payments_bar = plt.bar(payment_methods_count.index, payment_methods_count.values, color='green')\n",
    "plt.title('Métodos de pago por órdenes')\n",
    "plt.xlabel('Método de Pago')\n",
    "plt.ylabel('Conteo de órdenes')\n",
    "plt.xticks(rotation=45, ha='right')\n",
    "plt.grid(axis='y')\n",
    "\n",
    "get_yval(payments_bar)"
   ]
  },
  {
   "cell_type": "code",
   "execution_count": null,
   "id": "f823f19d-846d-4098-b73f-ea2ee6563bc1",
   "metadata": {},
   "outputs": [],
   "source": [
    "#Conteo de los estatus de órdenes\n",
    "status_counts = new_df['status'].value_counts()\n",
    "\n",
    "plt.figure(figsize=(14, 6))\n",
    "bargraph = plt.bar(status_counts.index, status_counts.values, color = 'blue')\n",
    "plt.title('Estados de Órdenes')\n",
    "plt.xlabel('Estado de Orden')\n",
    "plt.ylabel('Counts')\n",
    "plt.xticks(rotation=45, ha='right')\n",
    "\n",
    "get_yval(bargraph)"
   ]
  },
  {
   "cell_type": "markdown",
   "id": "aba04728-e2c3-413a-a546-51c1489b5d3b",
   "metadata": {},
   "source": [
    "Las tendencias y patrones en datos: Segmentación de clientes por medio del RFM\n",
    "\n",
    "Recencia, Frecuencia y Valor monetario\n",
    "\n",
    "Dado que nuestro dataset nos proporciona detalles del registro de órdenes, podemos segmentar clientes en \n",
    "\n",
    "1. Clientes Recientes\n",
    "2. Clientes Frecuentes\n",
    "3. Clientes de Alto Valor monetario"
   ]
  },
  {
   "cell_type": "code",
   "execution_count": null,
   "id": "0d7f86ac-87de-4636-af46-c40e8af823f7",
   "metadata": {},
   "outputs": [],
   "source": [
    "#Para realizar dicho análisis tomaremos como referencia el ID del cliente, la fecha de creación de la orden y el monto total de dicha orden\n",
    "new_df['created_at'] = pd.to_datetime(new_df['created_at'])\n",
    "\n",
    "\"\"\"\n",
    "Si requerimos de una fecha reciente como referencia, tomaremos en cuenta que estos datos abarcan hasta agosto de 2018, por lo tanto\n",
    "Definiremos una recencia del 01-07-2018\n",
    "\"\"\"\n",
    "\n",
    "recency_reference = pd.to_datetime('2018-07-01')"
   ]
  },
  {
   "cell_type": "code",
   "execution_count": null,
   "id": "f6b55301-135a-477b-92e1-5add16d286fc",
   "metadata": {},
   "outputs": [],
   "source": [
    "rfm = new_df.groupby('Customer ID').agg({\n",
    "    'created_at': lambda x: (recency_reference - x.max()).days,\n",
    "    'grand_total': ['sum', 'count'] })\n",
    "\n",
    "rfm.columns = ['Recency', 'Monetary', 'Frequency']\n",
    "rfm = rfm.reset_index()"
   ]
  },
  {
   "cell_type": "code",
   "execution_count": null,
   "id": "286d3094-0e3b-4bf2-9aa0-420a6d2b489e",
   "metadata": {},
   "outputs": [],
   "source": [
    "#Creamos los scores que definen y puntúan a cada tipo de cliente, del 1 al 4\n",
    "\n",
    "rfm['R_score'] = pd.qcut(rfm['Recency'], 4, labels=[4, 3, 2, 1])\n",
    "rfm['F_score'] = pd.qcut(rfm['Frequency'].rank(method=\"first\"), 4, labels=[1, 2, 3, 4])\n",
    "rfm['M_score'] = pd.qcut(rfm['Monetary'], 4, labels=[1, 2, 3, 4])\n",
    "\n",
    "#Unificamos los 3 scores\n",
    "rfm['RFM_score'] = rfm['R_score'].astype(str) + rfm['F_score'].astype(str) + rfm['M_score'].astype(str)"
   ]
  },
  {
   "cell_type": "code",
   "execution_count": null,
   "id": "8c15f7f1-e838-48b5-9e45-6de279a19106",
   "metadata": {},
   "outputs": [],
   "source": [
    "def segments(df):\n",
    "    if df['RFM_score'] >= '344':\n",
    "        return 'Clientes Valiosos'\n",
    "    elif df['RFM_score'] >= '244':\n",
    "        return 'Clientes Frecuentes'\n",
    "    elif df['RFM_score'] >= '144':\n",
    "        return 'Clientes Recientes'\n",
    "    else:\n",
    "        return 'Clientes de Riesgo'\n",
    "\n",
    "rfm['Segment'] = rfm.apply(segments, axis = 1)"
   ]
  },
  {
   "cell_type": "markdown",
   "id": "51fcf70c-8e35-415e-9062-7d5377e6225b",
   "metadata": {},
   "source": [
    "Clasificación definida:\n",
    "\n",
    "1. Clientes Valiosos: Alta frecuencia y valor monetario\n",
    "2. Clientes Frecuentes: No gastan mucho pero compraron recientemente\n",
    "3. Clientes Recientes: Clientes que compraron recientemente pero no compran seguido\n",
    "4. Clientes de Riesgo: Tienen puntajes bajos en las tres métricas"
   ]
  },
  {
   "cell_type": "code",
   "execution_count": null,
   "id": "d9446e54-8d10-4bf1-a75f-6d21126ddd76",
   "metadata": {},
   "outputs": [],
   "source": [
    "#Visualización de segmentos\n",
    "segments_count = rfm['Segment'].value_counts()\n",
    "\n",
    "segment_percentages = segments_count / segments_count.sum() * 100\n",
    "\n",
    "plt.figure(figsize=(14,10))\n",
    "segments_bar = plt.bar(segments_count.index, segments_count.values, color='blue')\n",
    "plt.title('Distribución en segmentos de clientes identificados')\n",
    "plt.xlabel('Segmento')\n",
    "plt.ylabel('Conteo de clientes')\n",
    "\n",
    "for i, bar in enumerate(segments_bar):\n",
    "    count = segments_count.values[i]\n",
    "    percent = segment_percentages.values[i]\n",
    "    plt.text(bar.get_x() + bar.get_width() / 2, bar.get_height() + 0.3, \n",
    "             f'{count} ({percent:.1f}%)', ha='center', va='bottom', fontsize=11)"
   ]
  },
  {
   "cell_type": "markdown",
   "id": "2179d643-0161-4f6e-bdc5-7166f61b10f8",
   "metadata": {},
   "source": [
    "Correlaciones entre:\n",
    "\n",
    "Categorías de órdenes y las fechas en las que se emiten."
   ]
  },
  {
   "cell_type": "code",
   "execution_count": null,
   "id": "b5e29b59-b52f-4b3f-ac49-c0f68586e85a",
   "metadata": {},
   "outputs": [],
   "source": [
    "new_df['order_datetime'] = pd.to_datetime(new_df['created_at'])\n",
    "category_date_counts = new_df.groupby([new_df['order_datetime'].dt.to_period('M'), 'category_name_1']).size().unstack(fill_value=0)\n",
    "\n",
    "category_date_counts.plot(kind='line', figsize=(10, 6))\n",
    "plt.title('Frecuencia de Órdenes por Categoría y Fecha')\n",
    "plt.xlabel('Fecha')\n",
    "plt.ylabel('Cantidad de órdenes')\n",
    "plt.legend(title='Categoría')"
   ]
  },
  {
   "cell_type": "markdown",
   "id": "6ca19915-216e-451d-8dbc-ed728be72bef",
   "metadata": {},
   "source": [
    "Agrupación de Métodos de pago y Estado de Orden"
   ]
  },
  {
   "cell_type": "code",
   "execution_count": null,
   "id": "0b8d69a8-c830-4ac5-8f39-8198e5fc4326",
   "metadata": {},
   "outputs": [],
   "source": [
    "status_payment_counts = new_df.groupby(['payment_method', 'status']).size().unstack(fill_value=0)\n",
    "\n",
    "plt.figure(figsize=(14, 12))\n",
    "status_payment_counts.plot(kind='bar', stacked=True, figsize=(10, 6))\n",
    "plt.title('Método de Pago vs Estado de Orden')\n",
    "plt.xlabel('Método de Pago')\n",
    "plt.ylabel('Número de Pedidos')\n",
    "plt.legend(title='Estado de Orden')\n",
    "plt.xticks(rotation=45)"
   ]
  },
  {
   "cell_type": "code",
   "execution_count": null,
   "id": "4ea437ef-39c7-45c6-adba-57c575208a44",
   "metadata": {},
   "outputs": [],
   "source": []
  }
 ],
 "metadata": {
  "kernelspec": {
   "display_name": "Python 3 (ipykernel)",
   "language": "python",
   "name": "python3"
  },
  "language_info": {
   "codemirror_mode": {
    "name": "ipython",
    "version": 3
   },
   "file_extension": ".py",
   "mimetype": "text/x-python",
   "name": "python",
   "nbconvert_exporter": "python",
   "pygments_lexer": "ipython3",
   "version": "3.12.3"
  }
 },
 "nbformat": 4,
 "nbformat_minor": 5
}
