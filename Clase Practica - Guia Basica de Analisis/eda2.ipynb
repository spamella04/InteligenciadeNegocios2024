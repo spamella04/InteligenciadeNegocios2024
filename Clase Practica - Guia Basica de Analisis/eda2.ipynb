{
 "cells": [
  {
   "cell_type": "code",
   "execution_count": 35,
   "metadata": {},
   "outputs": [],
   "source": [
    "import gdown\n",
    "import pandas as pd\n",
    "import numpy as np\n",
    "import matplotlib.pyplot as plt\n",
    "import seaborn as sns\n",
    "from wordcloud import WordCloud\n",
    "import nltk\n",
    "from nltk.corpus import stopwords\n",
    "import re\n",
    "from sklearn.model_selection import train_test_split\n",
    "from sklearn.feature_extraction.text import CountVectorizer\n",
    "from sklearn.linear_model import LogisticRegression\n",
    "from sklearn.metrics import confusion_matrix, accuracy_score, classification_report"
   ]
  },
  {
   "cell_type": "code",
   "execution_count": null,
   "metadata": {},
   "outputs": [],
   "source": [
    "\n",
    "#Carga de datos\n",
    "url = 'https://drive.google.com/uc?id=1nONpng5xOXNr2kK-bdtLL4RsaingezVK'\n",
    "amazonReview = 'Reviews.csv'\n",
    "gdown.download(url, amazonReview, quiet=False)\n",
    "data = pd.read_csv(amazonReview)\n"
   ]
  },
  {
   "cell_type": "code",
   "execution_count": null,
   "metadata": {},
   "outputs": [],
   "source": [
    "#Exploración de datos\n",
    "data.dtypes\n",
    "data.isnull().sum()"
   ]
  },
  {
   "cell_type": "code",
   "execution_count": null,
   "metadata": {},
   "outputs": [],
   "source": [
    "#Grafico de frecuencia de los scores\n",
    "plt.figure(figsize=(12, 8))\n",
    "sns.countplot(x='Score', data=data)  \n",
    "plt.title('Distribución de Scores') \n",
    "plt.xlabel('Score')  \n",
    "plt.ylabel('Frecuencia')  \n",
    "plt.xticks(rotation=45)  \n",
    "plt.show()"
   ]
  },
  {
   "cell_type": "code",
   "execution_count": null,
   "metadata": {},
   "outputs": [],
   "source": [
    "#Wordcloud"
   ]
  },
  {
   "cell_type": "code",
   "execution_count": null,
   "metadata": {},
   "outputs": [],
   "source": [
    "#Descarga de Stopwords\n",
    "nltk.download('stopwords')"
   ]
  },
  {
   "cell_type": "code",
   "execution_count": 26,
   "metadata": {},
   "outputs": [],
   "source": [
    "#Funncion para limpiar texto\n",
    "def limpiar_texto(texto):\n",
    "    texto = texto.lower()  \n",
    "    texto = re.sub(r'[^a-zA-Z\\s]', '', texto) \n",
    "    palabras = texto.split()  # tokenización\n",
    "    palabras = [palabra for palabra in palabras if palabra not in stopwords.words('english')]\n",
    "    return ' '.join(palabras)"
   ]
  },
  {
   "cell_type": "code",
   "execution_count": 28,
   "metadata": {},
   "outputs": [],
   "source": [
    "#Wordcloud de los reviews\n",
    "data['Summary'].fillna('').astype(str)\n",
    "reviews = data['Summary']\n",
    "reviews_limpio = reviews.apply(limpiar_texto)\n",
    "texto_wc = ' '.join(reviews_limpio)\n",
    "\n"
   ]
  },
  {
   "cell_type": "code",
   "execution_count": null,
   "metadata": {},
   "outputs": [],
   "source": [
    "#Generación de Wordcloud\n",
    "wc = WordCloud(width=800, height=400, background_color='white').generate(texto_wc)\n",
    "\n",
    "plt.figure(figsize=(10, 5))\n",
    "plt.imshow(wc, interpolation='bilinear')\n",
    "plt.axis('off')  \n",
    "plt.show()"
   ]
  },
  {
   "cell_type": "code",
   "execution_count": 31,
   "metadata": {},
   "outputs": [],
   "source": [
    "#Clasificacion de reseñas como positivas y negativas\n",
    "\n",
    "# Score de 3 es considerado una reseña neutra\n",
    "data.query('Score == 3') \n",
    "\n",
    "#Eliminación de reseñas con score 3\n",
    "data = data[data['Score'] != 3]"
   ]
  },
  {
   "cell_type": "code",
   "execution_count": null,
   "metadata": {},
   "outputs": [],
   "source": [
    "#Creacion de columna sentiment\n",
    "\n",
    "data['sentiment'] = 0\n",
    "data.loc[data['Score'] > 3, 'sentiment'] = 1  # Reseñas positivas\n",
    "data.loc[data['Score'] < 3, 'sentiment'] = -1  # Reseñas negativas\n",
    "\n",
    "print(data['sentiment'].value_counts())\n",
    "print(data.columns)\n",
    "\n"
   ]
  },
  {
   "cell_type": "code",
   "execution_count": 33,
   "metadata": {},
   "outputs": [],
   "source": [
    "#WordCloud Reseñas positivas\n",
    "reviews_positivas = data.query('sentiment == 1')['Summary']\n",
    "reviews_positivas_limpio = reviews_positivas.apply(limpiar_texto)\n",
    "texto_wc_positivo = ' '.join(reviews_positivas_limpio)\n",
    "\n"
   ]
  },
  {
   "cell_type": "code",
   "execution_count": null,
   "metadata": {},
   "outputs": [],
   "source": [
    "#Generación de Wordcloud Reseñas positivas\n",
    "wc = WordCloud(width=800, height=400, background_color='white').generate(texto_wc_positivo)\n",
    "\n",
    "plt.figure(figsize=(10, 5))\n",
    "plt.imshow(wc, interpolation='bilinear')\n",
    "plt.axis('off')  \n",
    "plt.show()"
   ]
  },
  {
   "cell_type": "code",
   "execution_count": 39,
   "metadata": {},
   "outputs": [],
   "source": [
    "#WordCloud Reseñas negativas\n",
    "reviews_negativas = data.query('sentiment == -1')['Summary']\n",
    "reviews_negativas_limpio = reviews_negativas.apply(limpiar_texto)\n",
    "texto_wc_negativo = ' '.join(reviews_negativas_limpio)"
   ]
  },
  {
   "cell_type": "code",
   "execution_count": null,
   "metadata": {},
   "outputs": [],
   "source": [
    "#Generación de Wordcloud Reseñas negativas\n",
    "wc = WordCloud(width=800, height=400, background_color='white').generate(texto_wc_negativo)\n",
    "plt.figure(figsize=(10, 5))\n",
    "plt.imshow(wc, interpolation='bilinear')\n",
    "plt.axis('off')  \n",
    "plt.show()"
   ]
  },
  {
   "cell_type": "code",
   "execution_count": null,
   "metadata": {},
   "outputs": [],
   "source": [
    "#Distribucion de reseñas positivas y negativas\n",
    "plt.figure(figsize=(12, 8))\n",
    "sns.countplot(x='sentiment', data=data)\n",
    "plt.title('Distribución de Sentimientos')\n",
    "plt.xlabel('Sentimiento')\n",
    "plt.ylabel('Frecuencia')\n",
    "plt.xticks(ticks=[0, 1,], labels=['Negativo', 'Positivo'])\n",
    "plt.show()"
   ]
  },
  {
   "cell_type": "code",
   "execution_count": null,
   "metadata": {},
   "outputs": [],
   "source": [
    "\n",
    "data['Summary'] = data['Summary'].apply(limpiar_texto)"
   ]
  },
  {
   "cell_type": "code",
   "execution_count": 57,
   "metadata": {},
   "outputs": [],
   "source": [
    "#Nuevo dataframe con las columnas Summary y sentiment\n",
    "\n",
    "data_nuevo = data[['Summary', 'sentiment']]\n",
    "\n",
    "#Input\n",
    "X = data_nuevo['Summary']\n",
    "#Output\n",
    "Y = data_nuevo['sentiment']\n",
    "\n",
    "X_training, X_test, Y_training, Y_test = train_test_split(X,Y,test_size=0.2,random_state=42)"
   ]
  },
  {
   "cell_type": "code",
   "execution_count": 58,
   "metadata": {},
   "outputs": [],
   "source": [
    "vectorizer = CountVectorizer()\n",
    "X_training_vectorized = vectorizer.fit_transform(X_training)\n",
    "X_test_vectorized = vectorizer.transform(X_test)"
   ]
  },
  {
   "cell_type": "code",
   "execution_count": null,
   "metadata": {},
   "outputs": [],
   "source": [
    "word_count = X_training_vectorized.sum(axis=0) \n",
    "words = vectorizer.get_feature_names_out() \n",
    "word_count_df = pd.DataFrame(word_count.A1, index=words, columns=['Count']) \n",
    "print(word_count_df.sort_values(by='Count', ascending=False).head(10))"
   ]
  },
  {
   "cell_type": "code",
   "execution_count": null,
   "metadata": {},
   "outputs": [],
   "source": [
    "#Modlo de regresion logistica\n",
    "model = LogisticRegression()\n",
    "model.fit(X_training_vectorized, Y_training)\n",
    "\n",
    "predictions = model.predict(X_test_vectorized)\n",
    "accuracy = accuracy_score(Y_test, predictions)\n",
    "\n",
    "print(f'Precisión del modelo: {accuracy:.2f}')"
   ]
  },
  {
   "cell_type": "code",
   "execution_count": null,
   "metadata": {},
   "outputs": [],
   "source": [
    "# Matriz de confusión\n",
    "cm = confusion_matrix(Y_test, predictions, labels=[-1, 1])  \n",
    "cm_array = np.array(cm)\n",
    "print(cm_array)\n",
    "\n",
    "#Reporte de clasificacion\n",
    "report = classification_report(Y_test, predictions, target_names=['Negativo', 'Positivo'])\n",
    "print(report)\n",
    "\n",
    "\n"
   ]
  }
 ],
 "metadata": {
  "kernelspec": {
   "display_name": "Python 3",
   "language": "python",
   "name": "python3"
  },
  "language_info": {
   "codemirror_mode": {
    "name": "ipython",
    "version": 3
   },
   "file_extension": ".py",
   "mimetype": "text/x-python",
   "name": "python",
   "nbconvert_exporter": "python",
   "pygments_lexer": "ipython3",
   "version": "3.12.3"
  }
 },
 "nbformat": 4,
 "nbformat_minor": 2
}
