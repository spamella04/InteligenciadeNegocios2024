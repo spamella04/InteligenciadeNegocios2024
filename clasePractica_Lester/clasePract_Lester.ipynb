{
 "cells": [
  {
   "cell_type": "code",
   "execution_count": null,
   "metadata": {},
   "outputs": [],
   "source": [
    "import pandas as pd\n",
    "import numpy as np\n",
    "import matplotlib.pyplot as plt\n",
    "import seaborn as sns\n",
    "import plotly.express as px\n",
    "import nltk as nltk\n",
    "import wordcloud as wc\n",
    "nltk.download('stopwords')\n",
    "from nltk.corpus import stopwords\n",
    "from sklearn.feature_extraction.text import CountVectorizer\n",
    "from sklearn.model_selection import train_test_split\n",
    "from sklearn.linear_model import LogisticRegression\n",
    "from sklearn.metrics import classification_report, confusion_matrix\n",
    "\n"
   ]
  },
  {
   "cell_type": "code",
   "execution_count": null,
   "metadata": {},
   "outputs": [],
   "source": [
    "url = 'https://media.githubusercontent.com/media/cdtoruno/review-csv/refs/heads/main/Reviews.csv'\n",
    "data = pd.read_csv(url)\n",
    "\n",
    "display(data.head())"
   ]
  },
  {
   "cell_type": "code",
   "execution_count": null,
   "metadata": {},
   "outputs": [],
   "source": [
    "fig = px.histogram(data, x='Score', title='Calificacion del Producto')\n",
    "fig.show()"
   ]
  },
  {
   "cell_type": "code",
   "execution_count": null,
   "metadata": {},
   "outputs": [],
   "source": [
    "#Generamos wordcloud\n",
    "if 'Text' in data.columns:\n",
    "    text = ' '.join(review for review in data['Text'])\n",
    "    stopwords_words = set(stopwords.words('english'))\n",
    "    wordcloud = wc.WordCloud(width=800, height=400).generate(text)\n",
    "    plt.figure(figsize=(10, 10))\n",
    "    plt.imshow(wordcloud, interpolation='bilinear')\n",
    "    plt.axis('off')\n",
    "    plt.show()"
   ]
  },
  {
   "cell_type": "code",
   "execution_count": null,
   "metadata": {},
   "outputs": [],
   "source": [
    "#clasificar reseñas positivas y negativas\n",
    "data['Sentiment'] = np.where(data['Score'] > 3, '1', '-1').astype(int)\n",
    "\n",
    "# Eliminar registros donde 'Score' es igual a 3\n",
    "data = data[data['Score'] != 3]\n",
    "display(data.head())"
   ]
  },
  {
   "cell_type": "code",
   "execution_count": null,
   "metadata": {},
   "outputs": [],
   "source": [
    "#creamos un dataframe solo para los registros con sentimiento positivo\n",
    "positive_reviews = data[data['Sentiment'] == 1]\n",
    "\n",
    "#creamos un dataframe solo para los registros con sentimiento negativo\n",
    "negative_reviews = data[data['Sentiment'] == -1]\n",
    "\n",
    "#verificamos que se hayan creado correctamente los dataframes\n",
    "display(positive_reviews.head())\n",
    "display(negative_reviews.head())"
   ]
  },
  {
   "cell_type": "code",
   "execution_count": null,
   "metadata": {},
   "outputs": [],
   "source": [
    "#generamos wordcloud para reseñas positivas\n",
    "if 'Text' in positive_reviews.columns:\n",
    "    text = ' '.join(review for review in positive_reviews['Text'])\n",
    "    stopwords_words = set(stopwords.words('english'))\n",
    "    wordcloud = wc.WordCloud(width=800, height=400).generate(text)\n",
    "    plt.figure(figsize=(10, 10))\n",
    "    plt.imshow(wordcloud, interpolation='bilinear')\n",
    "    plt.axis('off')\n",
    "    plt.show()"
   ]
  },
  {
   "cell_type": "code",
   "execution_count": null,
   "metadata": {},
   "outputs": [],
   "source": [
    "#generamos wordcloud para reseñas negativas\n",
    "if 'Text' in negative_reviews.columns:\n",
    "    text = ' '.join(review for review in negative_reviews['Text'])\n",
    "    stopwords_words = set(stopwords.words('english'))\n",
    "    wordcloud = wc.WordCloud(width=800, height=400).generate(text)\n",
    "    plt.figure(figsize=(10, 10))\n",
    "    plt.imshow(wordcloud, interpolation='bilinear')\n",
    "    plt.axis('off')\n",
    "    plt.show()"
   ]
  },
  {
   "cell_type": "code",
   "execution_count": null,
   "metadata": {},
   "outputs": [],
   "source": [
    "# Crear el gráfico de barras usando seaborn\n",
    "plt.figure(figsize=(10,6))\n",
    "sns.countplot(x='Sentiment', data=data)\n",
    "plt.title('Product Sentiment')\n",
    "plt.xlabel('Sentiment')\n",
    "plt.ylabel('Count')\n",
    "\n",
    "# Mostrar el gráfico\n",
    "plt.show()"
   ]
  },
  {
   "cell_type": "code",
   "execution_count": null,
   "metadata": {},
   "outputs": [],
   "source": [
    "data['Summary'] = data['Summary'].str.replace(r'[^\\w\\s]', '', regex=True)\n",
    "data['Summary'] = data['Summary'].fillna('')\n",
    "#crear un nuevo dataframe con solo las columnas 'Summary' y 'Sentiment'\n",
    "\n",
    "clean_data = data[['Summary', 'Sentiment']]\n",
    "display(clean_data.head())\n"
   ]
  },
  {
   "cell_type": "code",
   "execution_count": null,
   "metadata": {},
   "outputs": [],
   "source": [
    "# Dividir el dataframe en Summary y Sentiment en 80% y 20%\n",
    "train_data, test_data = train_test_split(data, test_size=0.2, random_state=7)\n",
    "\n",
    "# Creacion de bolsa de palabras\n",
    "vectorizer = CountVectorizer()\n",
    "\n",
    "x = vectorizer.fit_transform(train_data['Summary'])\n",
    "x_test = vectorizer.transform(test_data['Summary'])\n",
    "\n",
    "y = train_data['Sentiment']\n",
    "y_test = test_data['Sentiment']\n",
    "    \n",
    "\n",
    "print(f'Tamaño de la bolsa de palabras: {len(vectorizer.get_feature_names_out())}')\n",
    "\n",
    "# Pruebas para la precisión del modelo\n",
    "model = LogisticRegression(max_iter=2500) # Establecemos un maximo para iterar, asi no colapsaba la terminal\n",
    "model.fit(x, y)\n",
    "y_pred = model.predict(x_test)\n",
    "\n",
    "# Matriz \n",
    "print('Matriz de Confusión')\n",
    "matriz = confusion_matrix(y_test, y_pred)\n",
    "print(matriz)\n",
    "\n",
    "# Reporte \n",
    "reporte = classification_report(y_test, y_pred)\n",
    "print(reporte)\n"
   ]
  }
 ],
 "metadata": {
  "kernelspec": {
   "display_name": "Python 3",
   "language": "python",
   "name": "python3"
  },
  "language_info": {
   "codemirror_mode": {
    "name": "ipython",
    "version": 3
   },
   "file_extension": ".py",
   "mimetype": "text/x-python",
   "name": "python",
   "nbconvert_exporter": "python",
   "pygments_lexer": "ipython3",
   "version": "3.12.6"
  }
 },
 "nbformat": 4,
 "nbformat_minor": 2
}
